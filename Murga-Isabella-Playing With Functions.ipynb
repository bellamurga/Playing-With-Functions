{
 "cells": [
  {
   "cell_type": "markdown",
   "metadata": {},
   "source": [
    "## Playing With Functions"
   ]
  },
  {
   "cell_type": "markdown",
   "metadata": {},
   "source": [
    "These exercises are designed to strengthen your grasp on basic programming concepts. Read what is required of you carefully. For example, instructions to **return** values are not the same as those of **printing**.\n",
    "\n",
    "Make sure that cells are in **script mode** (not **interactive mode**).\n"
   ]
  },
  {
   "cell_type": "markdown",
   "metadata": {},
   "source": [
    "# 1\n",
    "### 1 point\n",
    "\n",
    "Write a function that takes the circumference of a circle as a parameter and **returns** the area of that circle.\n",
    "\n",
    "Note: Assume the value of pi is 3.1416"
   ]
  },
  {
   "cell_type": "code",
   "execution_count": 22,
   "metadata": {},
   "outputs": [
    {
     "name": "stdout",
     "output_type": "stream",
     "text": [
      "What is the circumference? 8\n",
      "The area is 5.092946269416858\n"
     ]
    }
   ],
   "source": [
    "def areaReturn():\n",
    "    circumference = float(input(\"What is the circumference? \"))\n",
    "    radius = circumference / 3.1416 / 2\n",
    "    area = radius * radius * 3.1416\n",
    "    return area\n",
    "\n",
    "print(\"The area is\", areaReturn())"
   ]
  },
  {
   "cell_type": "markdown",
   "metadata": {},
   "source": [
    "# 2\n",
    "### 2 points\n",
    "\n",
    "Write a function that takes a 5-character string as a parameter and **returns** the string in reverse order.\n",
    "\n",
    "e.g. reverseString(\"Hello\") -> \"olleH\""
   ]
  },
  {
   "cell_type": "code",
   "execution_count": 26,
   "metadata": {},
   "outputs": [
    {
     "name": "stdout",
     "output_type": "stream",
     "text": [
      "Enter a 5-character string: Hello\n",
      "olleH\n"
     ]
    }
   ],
   "source": [
    "def reverseString (word):\n",
    "    reverse = word[::-1]\n",
    "    return reverse\n",
    "\n",
    "word = str(input(\"Enter a 5-character string: \"))\n",
    "\n",
    "if len(word) == 5:\n",
    "    reverse = reverseString (word)\n",
    "    print(reverse)\n",
    "else:\n",
    "    print(\"Invalid string\")"
   ]
  },
  {
   "cell_type": "markdown",
   "metadata": {},
   "source": [
    "# 3\n",
    "### 2 points\n",
    "\n",
    "Write a function that takes a positive integer as input and **returns** the sum of all positive integers smaller than and including the number itself.\n",
    "\n",
    "e.g. backAddition(5) -> 1 + 2 + 3 + 4 + 5 -> 15"
   ]
  },
  {
   "cell_type": "code",
   "execution_count": 27,
   "metadata": {},
   "outputs": [
    {
     "name": "stdout",
     "output_type": "stream",
     "text": [
      "Enter a positive integer: 5\n",
      "The sum is 15\n"
     ]
    }
   ],
   "source": [
    "def backAddition (number):\n",
    "    range(1, number + 1, 1)\n",
    "    total = sum(range(1,number + 1, 1))\n",
    "    return total\n",
    "\n",
    "number = int(input(\"Enter a positive integer: \"))\n",
    "\n",
    "if number > 0:\n",
    "    total = backAddition (number)\n",
    "    print(\"The sum is\",total)\n",
    "else:\n",
    "    print(\"Please enter positive integers only.\")"
   ]
  },
  {
   "cell_type": "markdown",
   "metadata": {},
   "source": [
    "# 4\n",
    "### 5 points (all or nothing)\n",
    "\n",
    "The sum of the squares of the first ten natural numbers is,\n",
    "12 + 22 + ... + 102 = 385\n",
    "\n",
    "The square of the sum of the first ten natural numbers is,\n",
    "(1 + 2 + ... + 10)2 = 552 = 3025\n",
    "\n",
    "Hence the difference between the sum of the squares of the first ten natural numbers and the square of the sum is 3025 − 385 = 2640.\n",
    "\n",
    "Find the difference between the sum of the squares of the first one hundred natural numbers and the square of the sum.\n",
    "\n",
    "Show code that generates the answer."
   ]
  },
  {
   "cell_type": "code",
   "execution_count": 29,
   "metadata": {},
   "outputs": [
    {
     "name": "stdout",
     "output_type": "stream",
     "text": [
      "The resulting answer is 25164150\n"
     ]
    }
   ],
   "source": [
    "def sum_of_square (number):\n",
    "    sumofsquare = sum([i**2 for i in number])\n",
    "    return sumofsquare\n",
    "\n",
    "def square_of_sum (numbers):\n",
    "    squareofsum = sum(number)*sum(number)\n",
    "    return squareofsum\n",
    "\n",
    "number = range(1,101)\n",
    "\n",
    "sumofsquare = sum_of_square (number)\n",
    "\n",
    "squareofsum = square_of_sum (number)\n",
    "\n",
    "answer = squareofsum-sumofsquare\n",
    "\n",
    "print(\"The resulting answer is\", answer)"
   ]
  },
  {
   "cell_type": "markdown",
   "metadata": {},
   "source": [
    "# 5\n",
    "### 5 points \n",
    "\n",
    "Write a function that allows a self-service Point of Sale system to give you the exact change when you pay in cash.\n",
    "\n",
    "The function should accept the number of cents entered by the caller of the function. It then should **display** the denominations of the coins that should be given to the buyer. The change should use as few coins as possible. Assume that the Point of Sale system is loaded with 1 cent, 5 cents, 10 cents, 25 cents and 1 peso coins.\n",
    "\n",
    "Write main program code that accepts the number of cents manually through user input and calls the function written above.\n",
    "\n",
    "**Input:** The program accepts one positive integer, ***cents***, corresponding to the total change to be given by the Point of Sale system.\n",
    "\n",
    "**Output:** The number of 1 peso, 25 cents, 10 cents, 5 cents and 1 cent coins respectively. There should be one output per line.\n",
    "\n",
    "**Sample Input 1:**  \n",
    "105\n",
    "\n",
    "**Sample Output 1**  \n",
    "1  \n",
    "0  \n",
    "0  \n",
    "1  \n",
    "0  \n",
    "\n",
    "**Sample Input 2:**  \n",
    "69  \n",
    "\n",
    "**Sample Output 2:**  \n",
    "0  \n",
    "2  \n",
    "1  \n",
    "1  \n",
    "4  \n",
    "\n",
    "\n"
   ]
  },
  {
   "cell_type": "code",
   "execution_count": 32,
   "metadata": {},
   "outputs": [
    {
     "name": "stdout",
     "output_type": "stream",
     "text": [
      "Enter pesos: 105\n",
      "1\n",
      "0\n",
      "0\n",
      "1\n",
      "0\n"
     ]
    }
   ],
   "source": [
    "def extraChange(coin):\n",
    "    return onepeso\n",
    "    return twentyfivecents\n",
    "    return fivecents\n",
    "    return onecent\n",
    "\n",
    "coin = int(input(\"Enter pesos: \"))\n",
    "\n",
    "onepeso = coin/100\n",
    "coin %= 100\n",
    "\n",
    "twentyfivecents = coin/25\n",
    "coin %= 25\n",
    "\n",
    "tencents = coin/10\n",
    "coin %= 10\n",
    "\n",
    "fivecents = coin/5\n",
    "coin %= 5\n",
    "\n",
    "onecent = coin\n",
    "\n",
    "print (int(onepeso))\n",
    "print (int(twentyfivecents))\n",
    "print (int(tencents))\n",
    "print (int(fivecents))\n",
    "print (int(onecent))"
   ]
  }
 ],
 "metadata": {
  "kernelspec": {
   "display_name": "Python 3",
   "language": "python",
   "name": "python3"
  },
  "language_info": {
   "codemirror_mode": {
    "name": "ipython",
    "version": 3
   },
   "file_extension": ".py",
   "mimetype": "text/x-python",
   "name": "python",
   "nbconvert_exporter": "python",
   "pygments_lexer": "ipython3",
   "version": "3.8.5"
  }
 },
 "nbformat": 4,
 "nbformat_minor": 2
}
